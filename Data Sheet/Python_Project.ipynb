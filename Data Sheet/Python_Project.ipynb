{
 "cells": [
  {
   "cell_type": "code",
   "execution_count": 2,
   "metadata": {},
   "outputs": [
    {
     "ename": "NameError",
     "evalue": "name 'pd' is not defined",
     "output_type": "error",
     "traceback": [
      "\u001b[0;31m---------------------------------------------------------------------------\u001b[0m",
      "\u001b[0;31mNameError\u001b[0m                                 Traceback (most recent call last)",
      "\u001b[0;32m<ipython-input-2-34739d7c0aa0>\u001b[0m in \u001b[0;36m<module>\u001b[0;34m\u001b[0m\n\u001b[0;32m----> 1\u001b[0;31m \u001b[0mForest\u001b[0m\u001b[0;34m=\u001b[0m\u001b[0mpd\u001b[0m\u001b[0;34m.\u001b[0m\u001b[0mread_csv\u001b[0m\u001b[0;34m(\u001b[0m\u001b[0;34m\"Forest.csv\"\u001b[0m\u001b[0;34m)\u001b[0m\u001b[0;31m#Depliotion and growth of forest resources in terms of volume\u001b[0m\u001b[0;34m\u001b[0m\u001b[0;34m\u001b[0m\u001b[0m\n\u001b[0m\u001b[1;32m      2\u001b[0m \u001b[0mGHGases\u001b[0m\u001b[0;34m=\u001b[0m\u001b[0mpd\u001b[0m\u001b[0;34m.\u001b[0m\u001b[0mread_csv\u001b[0m\u001b[0;34m(\u001b[0m\u001b[0;34m\"Greenhouse gases.csv\"\u001b[0m\u001b[0;34m)\u001b[0m\u001b[0;31m#Greenhouse gases (Tones of CO2 equivalent, Thousands)\u001b[0m\u001b[0;34m\u001b[0m\u001b[0;34m\u001b[0m\u001b[0m\n\u001b[1;32m      3\u001b[0m \u001b[0mMWGen\u001b[0m\u001b[0;34m=\u001b[0m\u001b[0mpd\u001b[0m\u001b[0;34m.\u001b[0m\u001b[0mread_csv\u001b[0m\u001b[0;34m(\u001b[0m\u001b[0;34m\"Municipal waste generated.csv\"\u001b[0m\u001b[0;34m)\u001b[0m\u001b[0;31m#Municipal waste generated\u001b[0m\u001b[0;34m\u001b[0m\u001b[0;34m\u001b[0m\u001b[0m\n\u001b[1;32m      4\u001b[0m \u001b[0mThreatened\u001b[0m\u001b[0;34m=\u001b[0m\u001b[0mpd\u001b[0m\u001b[0;34m.\u001b[0m\u001b[0mread_csv\u001b[0m\u001b[0;34m(\u001b[0m\u001b[0;34m\"Threatened species of known species.csv\"\u001b[0m\u001b[0;34m)\u001b[0m\u001b[0;31m#Threatened species as % of known species\u001b[0m\u001b[0;34m\u001b[0m\u001b[0;34m\u001b[0m\u001b[0m\n\u001b[1;32m      5\u001b[0m \u001b[0mTOTMMade\u001b[0m\u001b[0;34m=\u001b[0m\u001b[0mpd\u001b[0m\u001b[0;34m.\u001b[0m\u001b[0mread_csv\u001b[0m\u001b[0;34m(\u001b[0m\u001b[0;34m\"Total man-made.csv\"\u001b[0m\u001b[0;34m)\u001b[0m\u001b[0;31m#Total man-made emission\u001b[0m\u001b[0;34m\u001b[0m\u001b[0;34m\u001b[0m\u001b[0m\n",
      "\u001b[0;31mNameError\u001b[0m: name 'pd' is not defined"
     ]
    }
   ],
   "source": [
    "Forest=pd.read_csv(\"Forest.csv\")#Depliotion and growth of forest resources in terms of volume\n",
    "GHGases=pd.read_csv(\"Greenhouse gases.csv\")#Greenhouse gases (Tones of CO2 equivalent, Thousands)\n",
    "MWGen=pd.read_csv(\"Municipal waste generated.csv\")#Municipal waste generated\n",
    "Threatened=pd.read_csv(\"Threatened species of known species.csv\")#Threatened species as % of known species\n",
    "TOTMMade=pd.read_csv(\"Total man-made.csv\")#Total man-made emission \n",
    "Water=pd.read_csv(\"Water.csv\")#Not connected to public sewerage or independent treatment\n",
    "TAXRev=pd.read_csv(\"Tax revenue USD.csv\")#Tax revenue only USD                #index_col =\"VAR\" removed"
   ]
  },
  {
   "cell_type": "markdown",
   "metadata": {},
   "source": [
    "#  Tables\n",
    "<a id='top'></a>\n",
    "* [Tax Revenue table](#revenue)\n",
    "* [Depliotion and growth of forest ](#forest)\n",
    "* [Greenhouse gases](#greenhouse)\n",
    "* [Municipal waste generated](#municipal)\n",
    "* [Threatened species](#threatened)\n",
    "* [Total man-made emission ](#total)\n",
    "* [Water treatment](#water)\n",
    "* [All tables inner join with Tax dataframe](#innerjoin)\n",
    "\n"
   ]
  },
  {
   "cell_type": "markdown",
   "metadata": {},
   "source": [
    "# Tax Revenue table\n",
    "<a id='revenue'></a>"
   ]
  },
  {
   "cell_type": "code",
   "execution_count": null,
   "metadata": {},
   "outputs": [],
   "source": [
    "#Forest.drop([1999],inplace = True)\n",
    "#GHGases.drop([1999],inplace = True)\n",
    "#MWGen.drop([1999],inplace = True)\n",
    "#TOTMMade.drop([1999],inplace = True)\n",
    "#Water.drop([1999],inplace = True)\n",
    "#TAXRev.drop([1999],inplace = True)\n",
    "#Forest=Forest.reset_index()\n",
    "#GHGases=GHGases.reset_index()\n",
    "#MWGen=MWGen.reset_index()\n",
    "#TOTMMade=TOTMMade.reset_index()\n",
    "#Water=Water.reset_index()\n",
    "#TAXRev=TAXRev.reset_index()\n",
    "#export_csv = Forest.to_csv('Forest.csv', index = False, header=True)\n",
    "#export_csv = GHGases.to_csv('Greenhouse gases.csv', index = False, header=True)\n",
    "#export_csv = MWGen.to_csv('Municipal waste generated.csv', index = False, header=True)\n",
    "#export_csv = TOTMMade.to_csv('Total man-made.csv', index = False, header=True)\n",
    "#export_csv = Water.to_csv('Water.csv', index = False, header=True)\n",
    "#export_csv = TAXRev.to_csv('Tax revenue USD.csv', index = False, header=True)\n"
   ]
  },
  {
   "cell_type": "code",
   "execution_count": null,
   "metadata": {
    "scrolled": true
   },
   "outputs": [],
   "source": [
    "TAXRev.head(50)"
   ]
  },
  {
   "cell_type": "code",
   "execution_count": null,
   "metadata": {},
   "outputs": [],
   "source": []
  },
  {
   "cell_type": "markdown",
   "metadata": {},
   "source": [
    "# Depliotion and growth of forest resources in terms of volume table\n",
    "<a id='forest'></a>\n",
    "* [back to top](#top)\n"
   ]
  },
  {
   "cell_type": "code",
   "execution_count": null,
   "metadata": {},
   "outputs": [],
   "source": []
  },
  {
   "cell_type": "code",
   "execution_count": null,
   "metadata": {},
   "outputs": [],
   "source": [
    "Forest.head()\n",
    "Forest"
   ]
  },
  {
   "cell_type": "code",
   "execution_count": null,
   "metadata": {},
   "outputs": [],
   "source": [
    "#tmp1 = TAXRev.set_index(['Year', 'Country'])\n",
    "#tmp1 = tmp1.sort_values(by=['Year', 'Country'])\n",
    "#tmp1"
   ]
  },
  {
   "cell_type": "code",
   "execution_count": null,
   "metadata": {},
   "outputs": [],
   "source": [
    "ForestXAA = Forest['Country'].value_counts()\n",
    "ForestXAA"
   ]
  },
  {
   "cell_type": "code",
   "execution_count": null,
   "metadata": {},
   "outputs": [],
   "source": [
    "ForestX = Forest['Variable'].value_counts()\n",
    "ForestX"
   ]
  },
  {
   "cell_type": "code",
   "execution_count": null,
   "metadata": {},
   "outputs": [],
   "source": [
    "ForestY = Forest.Year.value_counts()\n",
    "ForestY"
   ]
  },
  {
   "cell_type": "markdown",
   "metadata": {},
   "source": [
    "# Greenhouse gases (Tones of CO2 equivalent, Thousands)\n",
    "<a id='greenhouse'></a>"
   ]
  },
  {
   "cell_type": "code",
   "execution_count": null,
   "metadata": {
    "scrolled": true
   },
   "outputs": [],
   "source": [
    "GHGases.head(13)\n",
    "GHGases"
   ]
  },
  {
   "cell_type": "code",
   "execution_count": 3,
   "metadata": {},
   "outputs": [
    {
     "ename": "NameError",
     "evalue": "name 'GHGases' is not defined",
     "output_type": "error",
     "traceback": [
      "\u001b[0;31m---------------------------------------------------------------------------\u001b[0m",
      "\u001b[0;31mNameError\u001b[0m                                 Traceback (most recent call last)",
      "\u001b[0;32m<ipython-input-3-aa37e3458449>\u001b[0m in \u001b[0;36m<module>\u001b[0;34m\u001b[0m\n\u001b[0;32m----> 1\u001b[0;31m \u001b[0mGHGasesXAA\u001b[0m \u001b[0;34m=\u001b[0m \u001b[0mGHGases\u001b[0m\u001b[0;34m[\u001b[0m\u001b[0;34m'VAR'\u001b[0m\u001b[0;34m]\u001b[0m\u001b[0;34m.\u001b[0m\u001b[0mvalue_counts\u001b[0m\u001b[0;34m(\u001b[0m\u001b[0;34m)\u001b[0m\u001b[0;34m\u001b[0m\u001b[0;34m\u001b[0m\u001b[0m\n\u001b[0m\u001b[1;32m      2\u001b[0m \u001b[0mGHGasesXAA\u001b[0m\u001b[0;34m\u001b[0m\u001b[0;34m\u001b[0m\u001b[0m\n",
      "\u001b[0;31mNameError\u001b[0m: name 'GHGases' is not defined"
     ]
    }
   ],
   "source": [
    "GHGasesXAA = GHGases['VAR'].value_counts()\n",
    "GHGasesXAA"
   ]
  },
  {
   "cell_type": "code",
   "execution_count": null,
   "metadata": {},
   "outputs": [],
   "source": [
    "GHGasesZ = GHGases['Year'].value_counts()\n",
    "GHGasesZ"
   ]
  },
  {
   "cell_type": "markdown",
   "metadata": {},
   "source": [
    "# Municipal waste generated\n",
    "<a id='municipal'></a>\n",
    "* [back to top](#top)\n"
   ]
  },
  {
   "cell_type": "code",
   "execution_count": null,
   "metadata": {},
   "outputs": [],
   "source": [
    "MWGen.head(13)\n",
    "MWGen"
   ]
  },
  {
   "cell_type": "code",
   "execution_count": null,
   "metadata": {},
   "outputs": [],
   "source": [
    "MWGenXAA = MWGen['Country'].value_counts()\n",
    "MWGenXAA"
   ]
  },
  {
   "cell_type": "code",
   "execution_count": null,
   "metadata": {},
   "outputs": [],
   "source": [
    "MWGenX = MWGen['Variable'].value_counts()\n",
    "MWGenX"
   ]
  },
  {
   "cell_type": "code",
   "execution_count": null,
   "metadata": {},
   "outputs": [],
   "source": [
    "MWGenY = MWGen['Year'].value_counts()\n",
    "MWGenY"
   ]
  },
  {
   "cell_type": "markdown",
   "metadata": {},
   "source": [
    "# Threatened species as % of known species\n",
    "<a id='threatened'></a>"
   ]
  },
  {
   "cell_type": "code",
   "execution_count": null,
   "metadata": {
    "scrolled": true
   },
   "outputs": [],
   "source": [
    "Threatened.head(13)\n",
    "Threatened"
   ]
  },
  {
   "cell_type": "code",
   "execution_count": null,
   "metadata": {},
   "outputs": [],
   "source": [
    "ThreatenedXAA = Threatened['Country'].value_counts()\n",
    "ThreatenedXAA"
   ]
  },
  {
   "cell_type": "code",
   "execution_count": null,
   "metadata": {},
   "outputs": [],
   "source": [
    "ThreatenedXA = Threatened['PowerCode'].value_counts()\n",
    "ThreatenedXA"
   ]
  },
  {
   "cell_type": "code",
   "execution_count": null,
   "metadata": {},
   "outputs": [],
   "source": [
    "ThreatenedX = Threatened['IUCN Category'].value_counts()\n",
    "ThreatenedX"
   ]
  },
  {
   "cell_type": "code",
   "execution_count": null,
   "metadata": {},
   "outputs": [],
   "source": [
    "ThreatenedY = Threatened['Species'].value_counts()\n",
    "ThreatenedY"
   ]
  },
  {
   "cell_type": "markdown",
   "metadata": {},
   "source": [
    "# Total man-made emission \n",
    "<a id='total'></a>\n",
    "* [back to top](#top)\n"
   ]
  },
  {
   "cell_type": "code",
   "execution_count": null,
   "metadata": {},
   "outputs": [],
   "source": [
    "TOTMMade.head(13)\n",
    "TOTMMade"
   ]
  },
  {
   "cell_type": "code",
   "execution_count": null,
   "metadata": {},
   "outputs": [],
   "source": [
    "TOTMMadeXAA = TOTMMade['Country'].value_counts()\n",
    "TOTMMadeXAA"
   ]
  },
  {
   "cell_type": "code",
   "execution_count": null,
   "metadata": {},
   "outputs": [],
   "source": [
    "TOTMMadeX = TOTMMade['Pollutant'].value_counts()\n",
    "TOTMMadeX"
   ]
  },
  {
   "cell_type": "code",
   "execution_count": null,
   "metadata": {},
   "outputs": [],
   "source": [
    "TOTMMadeZ = TOTMMade['Year'].value_counts()\n",
    "TOTMMadeZ"
   ]
  },
  {
   "cell_type": "markdown",
   "metadata": {},
   "source": [
    "# Not connected to public sewerage or independent treatment\n",
    "<a id='water'></a>"
   ]
  },
  {
   "cell_type": "code",
   "execution_count": null,
   "metadata": {},
   "outputs": [],
   "source": [
    "Water.head(13)\n",
    "Water"
   ]
  },
  {
   "cell_type": "code",
   "execution_count": null,
   "metadata": {},
   "outputs": [],
   "source": [
    "WaterXAA = Water['Country'].value_counts()\n",
    "WaterXAA"
   ]
  },
  {
   "cell_type": "code",
   "execution_count": null,
   "metadata": {},
   "outputs": [],
   "source": [
    "WaterX = Water['Variable'].value_counts()\n",
    "WaterX"
   ]
  },
  {
   "cell_type": "code",
   "execution_count": null,
   "metadata": {},
   "outputs": [],
   "source": [
    "WaterY = Water['Year'].value_counts()\n",
    "WaterY"
   ]
  },
  {
   "cell_type": "markdown",
   "metadata": {},
   "source": [
    "# All tables inner join with Tax dataframe\n",
    "<a id='innerjoin'></a>\n",
    "\n",
    "* [back to top](#top)\n"
   ]
  },
  {
   "cell_type": "code",
   "execution_count": null,
   "metadata": {
    "scrolled": true
   },
   "outputs": [],
   "source": [
    "result = pd.merge(TAXRev, Forest, how='inner',on=['Country', 'Year'])\n",
    "result.head(50)\n"
   ]
  },
  {
   "cell_type": "code",
   "execution_count": null,
   "metadata": {},
   "outputs": [],
   "source": [
    "result[result['Environmental domain']==\"Total environment\"]"
   ]
  },
  {
   "cell_type": "code",
   "execution_count": null,
   "metadata": {},
   "outputs": [],
   "source": [
    "Forest_varieble=pd.get_dummies(result['Variable'],drop_first=True)\n"
   ]
  },
  {
   "cell_type": "code",
   "execution_count": null,
   "metadata": {},
   "outputs": [],
   "source": [
    "Forest_ED=pd.get_dummies(result['Environmental domain'],drop_first=True)\n"
   ]
  },
  {
   "cell_type": "code",
   "execution_count": null,
   "metadata": {
    "scrolled": true
   },
   "outputs": [],
   "source": [
    "temp = pd.concat([result,Forest_varieble, Forest_ED],axis=1)\n",
    "temp.drop(temp.columns[[2, 4]], axis=1, inplace=True)\n",
    "temp.head()"
   ]
  },
  {
   "cell_type": "code",
   "execution_count": null,
   "metadata": {},
   "outputs": [],
   "source": [
    "def minMaxNormalization(data):\n",
    "    return pd.Series((data-data.min())/(data.max()-data.min()))"
   ]
  },
  {
   "cell_type": "code",
   "execution_count": null,
   "metadata": {},
   "outputs": [],
   "source": [
    "from sklearn.preprocessing import MinMaxScaler\n",
    "from sklearn.preprocessing import StandardScaler"
   ]
  },
  {
   "cell_type": "code",
   "execution_count": null,
   "metadata": {},
   "outputs": [],
   "source": [
    "min_max_scaler = MinMaxScaler()\n",
    "temp['(x)min_max_rescaled'] = min_max_scaler.fit_transform(temp[['Value_x']])\n",
    "\n",
    "min_max_scaler = MinMaxScaler()\n",
    "temp['(y)min_max_rescaled'] = min_max_scaler.fit_transform(temp[['Value_y']])\n",
    "temp.head()"
   ]
  },
  {
   "cell_type": "code",
   "execution_count": null,
   "metadata": {
    "scrolled": false
   },
   "outputs": [],
   "source": [
    "x=temp['(x)min_max_rescaled']\n",
    "y=temp['(y)min_max_rescaled']\n",
    "plt.scatter(x,y ,c='b',marker='.')\n",
    "plt.xlabel(\"tax rev\")\n",
    "plt.ylabel(\"forest deplotion\")\n",
    "plt.title('tax Vs forest deplotion')"
   ]
  },
  {
   "cell_type": "code",
   "execution_count": null,
   "metadata": {},
   "outputs": [],
   "source": [
    "temp.corr()"
   ]
  },
  {
   "cell_type": "code",
   "execution_count": null,
   "metadata": {},
   "outputs": [],
   "source": [
    "df_taxForest.corr()"
   ]
  },
  {
   "cell_type": "code",
   "execution_count": null,
   "metadata": {},
   "outputs": [],
   "source": [
    "\n",
    "sns.regplot(x='(x)min_max_rescaled', y='(y)min_max_rescaled', data=temp, ci=None, order=5,line_kws={\"color\":\"k\",\"alpha\":0.8,\"lw\":3})\n"
   ]
  },
  {
   "cell_type": "code",
   "execution_count": null,
   "metadata": {},
   "outputs": [],
   "source": [
    "\n",
    "df_taxForest1=temp.loc[((temp['(x)min_max_rescaled'] >=0.19 )&(temp['(x)min_max_rescaled']<=0.7))&((temp['(y)min_max_rescaled'] >=0 )&(temp['(y)min_max_rescaled']<=0.2)),:]\n",
    "\n",
    "\n",
    "df_taxForest1.head()\n",
    "\n"
   ]
  },
  {
   "cell_type": "code",
   "execution_count": null,
   "metadata": {},
   "outputs": [],
   "source": [
    "x=df_taxForest['(x)min_max_rescaled']\n",
    "y=df_taxForest['(y)min_max_rescaled']\n",
    "plt.scatter(x,y ,c='b',marker='.')\n",
    "plt.xlabel(\"tax rev\")\n",
    "plt.ylabel(\"forest deplotion\")\n",
    "plt.title('tax Vs forest deplotion')"
   ]
  },
  {
   "cell_type": "code",
   "execution_count": null,
   "metadata": {
    "scrolled": false
   },
   "outputs": [],
   "source": [
    "TAXRev_GHGases = TAXRev.merge(TAXRev, GHGases, how='inner', on=['Country', 'Year'])\n",
    "df1 = TAXRev_GHGases.dropna()\n",
    "df1"
   ]
  },
  {
   "cell_type": "code",
   "execution_count": null,
   "metadata": {},
   "outputs": [],
   "source": [
    "tax_ed=pd.get_dummies(tax_ed['Environmental domain'],drop_first=True)\n"
   ]
  },
  {
   "cell_type": "code",
   "execution_count": null,
   "metadata": {},
   "outputs": [],
   "source": [
    "ghg_var=pd.get_dummies(TAXRev_GHGases['VAR'],drop_first=True)\n"
   ]
  },
  {
   "cell_type": "code",
   "execution_count": null,
   "metadata": {
    "scrolled": true
   },
   "outputs": [],
   "source": [
    "yali = pd.concat([df1,tax_ed, ghg_var],axis=1)\n",
    "yali.head()"
   ]
  },
  {
   "cell_type": "code",
   "execution_count": null,
   "metadata": {},
   "outputs": [],
   "source": [
    "x=temp['(x)min_max_rescaled']\n",
    "y=temp['(y)min_max_rescaled']\n",
    "plt.scatter(x,y ,c='b',marker='.')\n",
    "plt.xlabel(\"tax rev\")\n",
    "plt.ylabel(\"forest deplotion\")\n",
    "plt.title('tax Vs forest deplotion')"
   ]
  },
  {
   "cell_type": "code",
   "execution_count": null,
   "metadata": {
    "scrolled": true
   },
   "outputs": [],
   "source": [
    "TAXRev_MWGen = TAXRev.merge(TAXRev, MWGen, how='inner', on=['Country', 'Year'])\n",
    "df2 = TAXRev_MWGen.dropna()\n",
    "df2"
   ]
  },
  {
   "cell_type": "code",
   "execution_count": null,
   "metadata": {
    "scrolled": true
   },
   "outputs": [],
   "source": [
    "TAXRev_TOTMMade = TAXRev.merge(TOTMMade, how='inner', on=['Country', 'Year'])\n",
    "df3 = TAXRev_TOTMMade.dropna()\n",
    "df3"
   ]
  },
  {
   "cell_type": "code",
   "execution_count": null,
   "metadata": {
    "scrolled": false
   },
   "outputs": [],
   "source": [
    "TAXRev_Water = TAXRev.merge(Water, how='inner', on=['Country', 'Year'])\n",
    "TAXRev_Water\n",
    " "
   ]
  },
  {
   "cell_type": "code",
   "execution_count": null,
   "metadata": {
    "scrolled": true
   },
   "outputs": [],
   "source": [
    "TAXRev_Threatened = TAXRev.merge(Threatened, how='inner', on=['Country'])\n",
    "df5 = TAXRev_Threatened.dropna()\n",
    "df5"
   ]
  },
  {
   "cell_type": "code",
   "execution_count": 5,
   "metadata": {},
   "outputs": [
    {
     "ename": "ModuleNotFoundError",
     "evalue": "No module named 'pltlib'",
     "output_type": "error",
     "traceback": [
      "\u001b[0;31m---------------------------------------------------------------------------\u001b[0m",
      "\u001b[0;31mModuleNotFoundError\u001b[0m                       Traceback (most recent call last)",
      "\u001b[0;32m<ipython-input-5-d74a6621e9eb>\u001b[0m in \u001b[0;36m<module>\u001b[0;34m\u001b[0m\n\u001b[0;32m----> 1\u001b[0;31m \u001b[0;32mimport\u001b[0m \u001b[0mpltlib\u001b[0m \u001b[0;32mas\u001b[0m \u001b[0mplt\u001b[0m\u001b[0;34m\u001b[0m\u001b[0;34m\u001b[0m\u001b[0m\n\u001b[0m\u001b[1;32m      2\u001b[0m \u001b[0;32mimport\u001b[0m \u001b[0mnumpy\u001b[0m \u001b[0;32mas\u001b[0m \u001b[0mnp\u001b[0m\u001b[0;34m\u001b[0m\u001b[0;34m\u001b[0m\u001b[0m\n",
      "\u001b[0;31mModuleNotFoundError\u001b[0m: No module named 'pltlib'"
     ]
    }
   ],
   "source": [
    "import pltlib as plt \n",
    "import numpy as np\n",
    "MWGen=pd.read_csv(\"Municipal waste generated.csv\")#Municipal waste generated\n",
    "pd.merge(Tax_rev, Forest)"
   ]
  },
  {
   "cell_type": "code",
   "execution_count": null,
   "metadata": {},
   "outputs": [],
   "source": []
  }
 ],
 "metadata": {
  "kernelspec": {
   "display_name": "Python 3",
   "language": "python",
   "name": "python3"
  },
  "language_info": {
   "codemirror_mode": {
    "name": "ipython",
    "version": 3
   },
   "file_extension": ".py",
   "mimetype": "text/x-python",
   "name": "python",
   "nbconvert_exporter": "python",
   "pygments_lexer": "ipython3",
   "version": "3.7.4"
  }
 },
 "nbformat": 4,
 "nbformat_minor": 2
}
